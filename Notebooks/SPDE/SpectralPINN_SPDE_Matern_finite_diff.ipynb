{
 "cells": [
  {
   "cell_type": "markdown",
   "id": "0bb6ec18-e030-4283-a458-024bfeddbd07",
   "metadata": {},
   "source": [
    "# PINN approaches to solve the Matern SPDE\n",
    "\n",
    "*Lucia Clarotto, Hugo Gangloff, Nicolas Jouvin, May 2024*"
   ]
  },
  {
   "cell_type": "markdown",
   "id": "9696c46d-baeb-475e-8d48-2e513b491797",
   "metadata": {},
   "source": [
    "In this notebook we propose to solve the Matern SPDE\n",
    "\n",
    "$$\n",
    "(\\kappa^2 - \\Delta)^{\\alpha/2} \\mathcal{U} = \\mathcal{W},\n",
    "$$\n",
    "\n",
    "using the classical PINN framework in which we minimize the loss\n",
    "\n",
    "$$\n",
    "\\mathcal{L}_{PDE}(\\theta) = \\frac{1}{n}\\sum_{i=1}^{n}  \\vert \\mathcal{N}[u_\\theta]({s}_i) - w\\vert^2 ,\n",
    "$$\n",
    "with $\\mathcal{N}[u_\\theta] :=(\\kappa^2 - \\Delta)^{\\alpha/2} u_\\theta$.\n",
    "\n",
    "We compare 3 architectures for $u_\\theta$:\n",
    "1. spectralPINN\n",
    "2. sinusPINN\n",
    "3. classical PINN\n",
    "\n",
    "All the parameters of the equation are supposed to be known ($\\tau$, $\\alpha$) and the white noise realization $w$ is fixed and known too.\n",
    "\n",
    "Our reference simulation $u_{\\mathrm{spectral}}$ is performed using the spectral method from which we need to recover the white noise term. We will do so by using the fact that the differential operator applied to the solution must produce the white noise term, i.e. $w=(\\kappa^2 - \\Delta)^{\\alpha/2} u_{\\mathrm{spectral}}$\n"
   ]
  },
  {
   "cell_type": "markdown",
   "id": "24123ce5-1363-4710-9f36-65c727db88e6",
   "metadata": {},
   "source": [
    "## Set up"
   ]
  },
  {
   "cell_type": "code",
   "execution_count": 1,
   "id": "1e3a6cef-85cd-4283-a25e-617be97285d5",
   "metadata": {},
   "outputs": [],
   "source": [
    "%load_ext autoreload\n",
    "%autoreload 2\n",
    "%matplotlib inline"
   ]
  },
  {
   "cell_type": "code",
   "execution_count": 2,
   "id": "c53d074b-dd77-46ad-834a-19219d50c031",
   "metadata": {},
   "outputs": [],
   "source": [
    "#import os; os.environ[\"CUDA_VISIBLE_DEVICES\"]=\"\" # Disable GPU"
   ]
  },
  {
   "cell_type": "code",
   "execution_count": 3,
   "id": "787a9f94-f41c-42c2-8680-92dc9770e2d6",
   "metadata": {},
   "outputs": [],
   "source": [
    "import jinns\n",
    "import numpy as onp\n",
    "import equinox as eqx\n",
    "import jax\n",
    "from jax import random\n",
    "from jax import jit, vmap\n",
    "import jax.numpy as jnp\n",
    "import matplotlib.pyplot as plt\n",
    "import time\n",
    "import numpy as np"
   ]
  },
  {
   "cell_type": "code",
   "execution_count": 4,
   "id": "57ff130a-31d3-41fb-917a-4cdbb97fde0b",
   "metadata": {},
   "outputs": [],
   "source": [
    "key = random.PRNGKey(2)\n",
    "key, subkey = random.split(key)"
   ]
  },
  {
   "cell_type": "markdown",
   "id": "b5ea6502-7811-459d-8b1a-d105bdc3f191",
   "metadata": {},
   "source": [
    "## Sampling with spectral method\n",
    "The method is described in Denis Allard et al. _Simulating space-time random fields with nonseparable Gneiting-type covariance functions_, 2020.\n",
    "Note that we add a filtering for the highest variances. Without this, we would have strong artifacts altering the quality of the initialisation of the spectralPINN!"
   ]
  },
  {
   "cell_type": "code",
   "execution_count": 5,
   "id": "92e85f11-3a23-4d2c-9f07-d08fd2ba8b21",
   "metadata": {},
   "outputs": [
    {
     "name": "stdout",
     "output_type": "stream",
     "text": [
      "0.940316\n"
     ]
    }
   ],
   "source": [
    "# Number of bands\n",
    "nb = 5000\n",
    "# scale parameter\n",
    "kappa = scale = 0.3\n",
    "\n",
    "# # Matern smoothness\n",
    "d = k = 2\n",
    "alpha = 2 # current expression of the spde\n",
    "nu = alpha - d / 2\n",
    "sigma = 1 / jnp.sqrt(4 * jnp.pi * kappa ** 2)\n",
    "print(sigma)"
   ]
  },
  {
   "cell_type": "code",
   "execution_count": 6,
   "id": "9a2b09eb-66e5-48fd-978a-c2655e53bd7d",
   "metadata": {},
   "outputs": [],
   "source": [
    "def simSpectralSpatial_no_high_freq(key, nb = 1, nu = 1):\n",
    "    subkey = jax.random.split(key,3)\n",
    "    quantile = 0.95\n",
    "    n_sample = int(nb*(1+2*(1-quantile)))\n",
    "    gamma = jax.random.gamma(key = subkey[0], a=nu, shape=(n_sample,))*2/kappa**2\n",
    "    xi = 1/(2*gamma)\n",
    "    multR_plus = jnp.sqrt(2*xi)\n",
    "    threshold = jnp.quantile(multR_plus,quantile)\n",
    "    multR = multR_plus[multR_plus < threshold]\n",
    "    omega = multR[:nb]*jax.random.normal(key = subkey[1], shape=(k,nb))\n",
    "    #omega = multR_plus*jax.random.normal(key = subkey[1], shape=(k,nb))\n",
    "\n",
    "    phi = 2*jnp.pi*jax.random.uniform(key = subkey[2], shape=(nb,))\n",
    "    return omega,phi\n",
    "def simulate_one(omega,phi,xy,kappa):\n",
    "    temp = jnp.exp(1j * (omega.T @ xy + phi))\n",
    "    return sigma * jnp.sqrt(2/nb) * jnp.sum(jnp.real(temp),axis=0) # NOTE the sigma\n",
    "def simulate_wn_one(omega,phi,xy,kappa):\n",
    "    return sigma * jnp.sqrt(2/nb) * jnp.sum( (kappa ** 2 + jnp.linalg.norm(omega,axis=0) ** 2) * jnp.cos(omega.T @ xy + phi)) # NOTE the sigma"
   ]
  },
  {
   "cell_type": "code",
   "execution_count": 7,
   "id": "131e9ec8-c2c0-4c42-a5a1-66695914b2cd",
   "metadata": {},
   "outputs": [],
   "source": [
    "true_omega, true_phi = simSpectralSpatial_no_high_freq(subkey, nb=nb, nu=nu)"
   ]
  },
  {
   "cell_type": "markdown",
   "id": "95b81fbf-0359-47bc-8665-106ec7cdd2ee",
   "metadata": {},
   "source": [
    "## Source term (white noise) simulation"
   ]
  },
  {
   "cell_type": "markdown",
   "id": "3655d652-0e93-4ff6-865f-7f519e9226e2",
   "metadata": {},
   "source": [
    "Note about the `practical_range`: we train on a larger domain to avoid boundary effects polluting the results (see an extended discussion of the phenomenon in Khristenko et al., _Analysis of boundary effects on PDE-based sampling of Whittle-Matérn random fields_, 2018)"
   ]
  },
  {
   "cell_type": "code",
   "execution_count": 8,
   "id": "a3648c96-c33a-4fbd-8a6a-1adf922d8d7b",
   "metadata": {},
   "outputs": [],
   "source": [
    "lx = ly = 64 - 1\n",
    "xmin = 0\n",
    "xmax = 64 - 1\n",
    "ymin = 0\n",
    "ymax = 64 - 1\n",
    "nx, ny = 64, 64\n",
    "val_xy_data = [jnp.linspace(xmin, xmax, nx),\n",
    "               jnp.linspace(ymin, ymax, ny)\n",
    "              ]"
   ]
  },
  {
   "cell_type": "code",
   "execution_count": 9,
   "id": "965c7b6c-289e-4271-853c-2624979a6300",
   "metadata": {},
   "outputs": [],
   "source": [
    "practical_range = int(np.round(jnp.sqrt(8 * nu) / kappa))\n",
    "shape = (xmax + 1 + 4 * practical_range, ymax + 1 + 4 * (practical_range))\n",
    "source_term = jax.random.normal(key=subkey, shape=shape)"
   ]
  },
  {
   "cell_type": "markdown",
   "id": "6453ac76-3c53-4bcb-bcd6-0813496062e3",
   "metadata": {},
   "source": [
    "## Sampling with finite differences"
   ]
  },
  {
   "cell_type": "markdown",
   "id": "efdebed6-3df5-4169-9bed-a2872d08dcca",
   "metadata": {},
   "source": [
    "Below we perform the actual simulation of the field with Matern covariance on the desired domain with the true parameters that we simulated. This is our **target field**"
   ]
  },
  {
   "cell_type": "code",
   "execution_count": 10,
   "id": "487502a9-ea3d-4be9-b55a-2bca66ed97d1",
   "metadata": {},
   "outputs": [],
   "source": [
    "import numpy as np\n",
    "import math\n",
    "import numpy.typing as npt\n",
    "from scipy.special import kv\n",
    "from scipy.spatial import distance_matrix\n",
    "from scipy.sparse import lil_matrix, csc_matrix\n",
    "from scipy.sparse.linalg import LinearOperator, gmres, splu\n",
    "import matplotlib.pyplot as plt\n",
    "\n",
    "NDArrayFloat = npt.NDArray[np.float64]\n",
    "\n",
    "\n",
    "def get_laplacian_matrix(\n",
    "    nx: int, ny: int, dx: float, dy: float, kappa: float\n",
    ") -> csc_matrix:\n",
    "    \"\"\"\n",
    "    Return a sparse matrix of the discretization of the Laplacian.\n",
    "\n",
    "    Parameters\n",
    "    ----------\n",
    "    nx : int\n",
    "        Number of meshes along x.\n",
    "    ny : int\n",
    "        Number of meshes along y.\n",
    "    dx : float\n",
    "        Size of the mesh along x.\n",
    "    dy : float\n",
    "        Size of the mesh along y.\n",
    "    kappa : float\n",
    "        Range (length scale).\n",
    "\n",
    "    Returns\n",
    "    -------\n",
    "    csc_matrix\n",
    "        Sparse matrix with dimension (nx * ny)x(nx * ny) representing the  discretized\n",
    "        laplacian.\n",
    "\n",
    "    \"\"\"\n",
    "    n_nodes = nx * ny\n",
    "\n",
    "    # construct an empty sparse matrix (lil_format because it supports indexing and\n",
    "    # slicing).\n",
    "    lap = lil_matrix((n_nodes, n_nodes), dtype=np.float64)\n",
    "\n",
    "    # Looping on all nodes and considering neighboors\n",
    "    for i in range(nx):\n",
    "        for j in range(ny):\n",
    "            node_index = i * ny + j\n",
    "            lap[node_index, node_index] += kappa**2 + 2 / dx**2 + 2 / dx**2\n",
    "            if i > 0:\n",
    "                neighbor_index = (i - 1) * ny + j\n",
    "                lap[node_index, neighbor_index] += -1.0 / dx**2\n",
    "            if i < nx - 1:\n",
    "                neighbor_index = (i + 1) * ny + j\n",
    "                lap[node_index, neighbor_index] += -1.0 / dx**2\n",
    "            if j > 0:\n",
    "                neighbor_index = i * ny + (j - 1)\n",
    "                lap[node_index, neighbor_index] += -1.0 / dy**2\n",
    "            if j < ny - 1:\n",
    "                neighbor_index = i * ny + (j + 1)\n",
    "                lap[node_index, neighbor_index] += -1.0 / dy**2\n",
    "\n",
    "    # Convert from lil to csr matrix for more efficient calculation\n",
    "    return lap.tocsc()\n",
    "\n",
    "\n",
    "def get_preconditioner(mat: csc_matrix) -> LinearOperator:\n",
    "    \"\"\"Get the preconditioner for the given matrix.\"\"\"\n",
    "    op = splu(mat)\n",
    "\n",
    "    def super_lu(x):\n",
    "        return op.solve(x)\n",
    "\n",
    "    return LinearOperator(mat.shape, super_lu)\n",
    "\n",
    "\n",
    "def simu_nc(\n",
    "    lap_mat: csc_matrix, dx: float, dy: float, wn: NDArrayFloat\n",
    ") -> NDArrayFloat:\n",
    "    \"\"\"\n",
    "    Return the gaussian solution of the discretized EDPS (gaussian vector).\n",
    "\n",
    "    Parameters\n",
    "    ----------\n",
    "    lap_mat : csc_matrix\n",
    "        The laplacian matrix.\n",
    "    dx : float\n",
    "        Size of the mesh along x.\n",
    "    dy : float\n",
    "        Size of the mesh along y.\n",
    "    wn : white noise\n",
    "    Returns\n",
    "    -------\n",
    "    NDArrayFloat\n",
    "        The simulation.\n",
    "\n",
    "    \"\"\"\n",
    "    # Fonctions R utiles: ncol, rnorm, solve\n",
    "\n",
    "    # white noise with size nx * ny -> standard deviation np.sqrt(1 / (dx*dy) ) \n",
    "    w = np.sqrt(1 / (dx*dy))*wn\n",
    "\n",
    "    # Use a LU preconditioner to get faster computation\n",
    "    z, info = gmres(lap_mat, w, M=get_preconditioner(lap_mat), atol=1e10)\n",
    "\n",
    "    #tau = kappa * np.sqrt((4 * np.pi * math.gamma(2) / math.gamma(1)))\n",
    "    return z #* tau"
   ]
  },
  {
   "cell_type": "code",
   "execution_count": 11,
   "id": "e0b36576-0db6-4fc4-96d0-c8d7d116e982",
   "metadata": {},
   "outputs": [
    {
     "data": {
      "image/png": "[encoded data removed]",
      "text/plain": [
       "<Figure size 640x480 with 2 Axes>"
      ]
     },
     "metadata": {},
     "output_type": "display_data"
    }
   ],
   "source": [
    "nx = ny = shape[0]  # grid size definition (meshes)\n",
    "n_nodes = nx * ny  # number of meshes\n",
    "dx = dy = 1  # mesh size\n",
    "kappa = 0.3  # length scale\n",
    "\n",
    "# Build the laplacian matric\n",
    "simu_lap_mat = get_laplacian_matrix(nx, ny, dx, dy, kappa)\n",
    "\n",
    "# Set a random number generator to obtain reproducible results\n",
    "# Generate a seed from a cool sentence\n",
    "# Note: this is an incremental generator\n",
    "# rng = np.random.default_rng(np.abs(hash(\"mike is the best\")))\n",
    "# wn = rng.normal(loc=0, scale=1, size=simu_lap_mat.shape[0])\n",
    "wn = np.asarray(source_term.flatten())\n",
    "\n",
    "# Non conditional simulation with a given seed for the white noise\n",
    "Y = jnp.asarray(simu_nc(simu_lap_mat, dx, dy, wn).reshape(ny, nx, order='F').T)\n",
    "\n",
    "#plt.imshow(simu_lap_mat.todense())\n",
    "#plt.show()\n",
    "\n",
    "# Display the simulated field\n",
    "plt.imshow(Y, origin=\"lower\")\n",
    "plt.xlabel(\"X\")\n",
    "plt.ylabel(\"Y\")\n",
    "plt.title(\"Truth\")\n",
    "plt.colorbar()\n",
    "plt.show()"
   ]
  },
  {
   "cell_type": "markdown",
   "id": "0a2808b5-df62-4588-9cd3-0396ea5b8c5e",
   "metadata": {},
   "source": [
    "## Solving the Matern SPDE in the PINN framework"
   ]
  },
  {
   "cell_type": "markdown",
   "id": "45264812-59fa-45f1-b956-dd4ca1b8d2e5",
   "metadata": {},
   "source": [
    "Create train dataset and validation dataset with **jinns**. Note that we only train and validate on integer values where the source term is available."
   ]
  },
  {
   "cell_type": "code",
   "execution_count": 12,
   "id": "91893e19-814a-428e-b84e-c845b9de46dd",
   "metadata": {},
   "outputs": [],
   "source": [
    "n = 19600\n",
    "batch_size = 1024\n",
    "method = 'grid'\n",
    "\n",
    "key, subkey = random.split(key)\n",
    "train_data = jinns.data.CubicMeshPDEStatio(\n",
    "    subkey, n, None, batch_size, None, 2,\n",
    "    (xmin-(2*practical_range), ymin-(2*(practical_range))), (xmax+(2*practical_range)+1, ymax+(2*practical_range)+1),\n",
    "    # +1 because of arange in DataGenerator\n",
    "    method=method\n",
    ")\n",
    "train_data.omega = jnp.round(train_data.omega).astype(float)"
   ]
  },
  {
   "cell_type": "markdown",
   "id": "8d5ca3aa-7740-4c1a-8054-640b3c0992ca",
   "metadata": {},
   "source": [
    "In order to compute the error on the interior domain of interest (to avoid boundary effects) we resort to **jinns**' validation module"
   ]
  },
  {
   "cell_type": "code",
   "execution_count": 13,
   "id": "18bc60d7-f098-4ab5-9fb7-dcb9d1017714",
   "metadata": {},
   "outputs": [],
   "source": [
    "n = (xmax+1) * (ymax+1)\n",
    "batch_size = (xmax+1) * (ymax+1)\n",
    "method = 'grid'\n",
    "\n",
    "key, subkey = random.split(key)\n",
    "validation_data = jinns.data.CubicMeshPDEStatio(\n",
    "    subkey, n, None, batch_size, None, 2, (xmin, ymin), (xmax+1, ymax+1), method=method\n",
    "    # +1 because of arange in DataGenerator\n",
    ")\n",
    "validation_data.get_batch()\n",
    "validation_data.omega = jnp.round(validation_data.omega).astype(float)"
   ]
  },
  {
   "cell_type": "markdown",
   "id": "869b8cbc-237b-409a-90a0-5e0bad5261f9",
   "metadata": {},
   "source": [
    "Create the PINN losses in **jinns**"
   ]
  },
  {
   "cell_type": "code",
   "execution_count": 14,
   "id": "60672025-c454-4364-bd97-781228ab78a5",
   "metadata": {},
   "outputs": [],
   "source": [
    "from jinns.loss import PDEStatio\n",
    "\n",
    "def _laplacian_fwd(x, u, params):\n",
    "    \"\"\"\n",
    "    We compute the Laplacian in a forward manner\n",
    "    \"\"\"\n",
    "    return jnp.trace(jax.jacfwd(jax.jacfwd(lambda x: u(x, params)[..., 0]))(x))\n",
    "\n",
    "\n",
    "class Matern_SPDE_Statio(PDEStatio):\n",
    "    def __init__(self, eq_params_heterogeneity=None):\n",
    "        super().__init__(eq_params_heterogeneity)\n",
    "\n",
    "    #@PDEStatio.evaluate_heterogeneous_parameters\n",
    "    def evaluate(self, x, u, params):\n",
    "        lap = _laplacian_fwd(x, u, params)\n",
    "        source_term = params[\"eq_params\"][\"source_term\"]\n",
    "        kappa = params[\"eq_params\"][\"kappa\"]\n",
    "        return (\n",
    "            lap\n",
    "            + source_term[jnp.round(x[0]).astype(jnp.int32)+2*(practical_range),\n",
    "                            jnp.round(x[1]).astype(jnp.int32)+2*(practical_range)]\n",
    "            - kappa**2 * u(x, params[\"nn_params\"])\n",
    "        )\n",
    "dynamic_loss = Matern_SPDE_Statio(\n",
    "    #eq_params_heterogeneity={\"source_term\":Lu},\n",
    ")\n"
   ]
  },
  {
   "cell_type": "markdown",
   "id": "644707a0-fbd5-4ba9-b03b-2748e8e793f2",
   "metadata": {},
   "source": [
    "**1) Spectral PINN**"
   ]
  },
  {
   "cell_type": "code",
   "execution_count": 15,
   "id": "58025a92-9135-467b-9bca-35e834c41d45",
   "metadata": {},
   "outputs": [],
   "source": [
    "nbands = 5000\n",
    "list_layers_pinn = [\n",
    "    [eqx.nn.Linear, 2, nbands],\n",
    "    [jnp.cos]\n",
    "]\n",
    "\n",
    "key, subkey = random.split(key)\n",
    "spectralPINN = jinns.experimental.create_spectralPINN(subkey, list_layers_pinn, nbands)\n",
    "init_nn_params = spectralPINN.init_params()"
   ]
  },
  {
   "cell_type": "markdown",
   "id": "918562e7-74e0-48d3-a7a5-a92eeaa16d52",
   "metadata": {},
   "source": [
    "Set up the loss in **jinns**"
   ]
  },
  {
   "cell_type": "code",
   "execution_count": 16,
   "id": "02ae578f-3c93-4d00-90e4-76e77eab1455",
   "metadata": {},
   "outputs": [
    {
     "name": "stderr",
     "output_type": "stream",
     "text": [
      "/home/hugo/Documents/recherche/pinn/private_gitlab/jinns/loss/_LossPDE.py:364: UserWarning: Missing boundary function or no boundary condition.Boundary function is thus ignored.\n",
      "  warnings.warn(\n"
     ]
    }
   ],
   "source": [
    "loss_weights = {\"dyn_loss\":1}\n",
    "\n",
    "loss = jinns.loss.LossPDEStatio(\n",
    "    u=spectralPINN,\n",
    "    loss_weights=loss_weights,\n",
    "    dynamic_loss=dynamic_loss\n",
    ")\n"
   ]
  },
  {
   "cell_type": "markdown",
   "id": "b6690891-4927-4ceb-948c-12c205687294",
   "metadata": {},
   "source": [
    "**jinns** set up for validation loss: to compute the loss avoiding boundary effects"
   ]
  },
  {
   "cell_type": "code",
   "execution_count": 17,
   "id": "90d2f48a-09e6-4c29-895c-2a6adb3368ef",
   "metadata": {},
   "outputs": [],
   "source": [
    "from jinns.validation import ValidationLoss\n",
    "validation = ValidationLoss(\n",
    "    loss = loss, # a deep copy of `loss` will be done internally\n",
    "    validation_data = validation_data,\n",
    "    validation_param_data = None,\n",
    "    validation_obs_data = None,\n",
    "    call_every=250,\n",
    "    early_stopping=True,\n",
    "    patience=20\n",
    ")"
   ]
  },
  {
   "cell_type": "code",
   "execution_count": 18,
   "id": "56764016-3fcf-4774-9076-811bca112a57",
   "metadata": {},
   "outputs": [],
   "source": [
    "init_params = {\n",
    "    \"nn_params\":init_nn_params,\n",
    "    \"eq_params\":{\n",
    "        \"kappa\":scale,\n",
    "        \"source_term\":source_term.T #0. # will be replaced by a function #jnp.asarray(source_term)\n",
    "    }\n",
    "}"
   ]
  },
  {
   "cell_type": "markdown",
   "id": "25d22c77-d533-433f-8e92-357477c73486",
   "metadata": {},
   "source": [
    "Initialise the parameters with samples from the true distribution.\n",
    "\n",
    "**Note** that this is important to cut off high frequencies here!"
   ]
  },
  {
   "cell_type": "code",
   "execution_count": 19,
   "id": "4a49adfa-bc4b-42a3-aa95-eef97ca9956d",
   "metadata": {},
   "outputs": [],
   "source": [
    "key, subkey = jax.random.split(key)\n",
    "init_omega, init_phi=simSpectralSpatial_no_high_freq(subkey, nb = nb, nu = nu)\n",
    "\n",
    "init_params[\"nn_params\"] = eqx.tree_at(lambda m: m.layers_pinn[0].weight, init_params[\"nn_params\"], init_omega.T)\n",
    "init_params[\"nn_params\"] = eqx.tree_at(lambda m: m.layers_pinn[0].bias, init_params[\"nn_params\"], init_phi)"
   ]
  },
  {
   "cell_type": "markdown",
   "id": "a7ce2731-31d2-4a5a-9d8d-7e0e456cf859",
   "metadata": {},
   "source": [
    "We look at the initialization of the spectralPINN on the domain of interest below. Obviously, as we consider the parameters to be known, the initialization has the same general appearance as the target field, but it is definitly different!"
   ]
  },
  {
   "cell_type": "code",
   "execution_count": 20,
   "id": "24295cec-b2fa-4645-b32e-208295d1562d",
   "metadata": {},
   "outputs": [
    {
     "data": {
      "image/png": "[encoded data removed]",
      "text/plain": [
       "<Figure size 400x400 with 2 Axes>"
      ]
     },
     "metadata": {},
     "output_type": "display_data"
    }
   ],
   "source": [
    "spectralPINN_init = lambda x: spectralPINN(x, init_params[\"nn_params\"])\n",
    "jinns.data.plot2d(\n",
    "    spectralPINN_init,\n",
    "    xy_data = val_xy_data,\n",
    "    title=\"SpectralPINN iteration=0\",\n",
    "    vmin_vmax=(-3, 4),\n",
    "    figsize=(4, 4)\n",
    ")"
   ]
  },
  {
   "cell_type": "markdown",
   "id": "09190cb2-9593-4fe6-8033-a13571cb8ddf",
   "metadata": {},
   "source": [
    "## Training"
   ]
  },
  {
   "cell_type": "markdown",
   "id": "4cb0ba3a-d563-4dfe-a580-34937def7e21",
   "metadata": {},
   "source": [
    "The actual training loop now arrives"
   ]
  },
  {
   "cell_type": "code",
   "execution_count": 21,
   "id": "c0fe31b5-056b-42f9-a9fe-e70cdaaf9e1b",
   "metadata": {},
   "outputs": [],
   "source": [
    "params = init_params"
   ]
  },
  {
   "cell_type": "code",
   "execution_count": 22,
   "id": "8720f38a-21dc-48a4-95e6-3dfe14cc8181",
   "metadata": {},
   "outputs": [],
   "source": [
    "# Optimizer\n",
    "import optax\n",
    "\n",
    "tx = optax.adam(learning_rate=5e-4)\n",
    "n_iter = int(50000)"
   ]
  },
  {
   "cell_type": "code",
   "execution_count": 23,
   "id": "c22d752d-9f42-4ef5-a3e6-4bfa3b71918f",
   "metadata": {},
   "outputs": [
    {
     "name": "stderr",
     "output_type": "stream",
     "text": [
      "/home/hugo/Documents/recherche/pinn/private_gitlab/jinns/loss/_LossPDE.py:364: UserWarning: Missing boundary function or no boundary condition.Boundary function is thus ignored.\n",
      "  warnings.warn(\n",
      "/home/hugo/Documents/recherche/pinn/private_gitlab/jinns/loss/_LossPDE.py:364: UserWarning: Missing boundary function or no boundary condition.Boundary function is thus ignored.\n",
      "  warnings.warn(\n",
      "/home/hugo/Documents/recherche/pinn/private_gitlab/jinns/loss/_LossPDE.py:364: UserWarning: Missing boundary function or no boundary condition.Boundary function is thus ignored.\n",
      "  warnings.warn(\n",
      "/home/hugo/Documents/recherche/pinn/private_gitlab/jinns/loss/_LossPDE.py:364: UserWarning: Missing boundary function or no boundary condition.Boundary function is thus ignored.\n",
      "  warnings.warn(\n",
      "/home/hugo/Documents/recherche/pinn/private_gitlab/jinns/loss/_LossPDE.py:364: UserWarning: Missing boundary function or no boundary condition.Boundary function is thus ignored.\n",
      "  warnings.warn(\n",
      "/home/hugo/Documents/recherche/pinn/private_gitlab/jinns/loss/_LossPDE.py:364: UserWarning: Missing boundary function or no boundary condition.Boundary function is thus ignored.\n",
      "  warnings.warn(\n",
      "/home/hugo/Documents/recherche/pinn/private_gitlab/jinns/loss/_LossPDE.py:364: UserWarning: Missing boundary function or no boundary condition.Boundary function is thus ignored.\n",
      "  warnings.warn(\n"
     ]
    },
    {
     "name": "stdout",
     "output_type": "stream",
     "text": [
      "[train] Iteration 0: loss value = 1.417264699935913\n",
      "[validation] Iteration 0: loss value = 1.3714333772659302\n",
      "[train] Iteration 5000: loss value = 1.004518747329712\n",
      "[validation] Iteration 5000: loss value = 1.0641977787017822\n",
      "[train] Iteration 10000: loss value = 0.9193930625915527\n",
      "[validation] Iteration 10000: loss value = 1.0529636144638062\n",
      "[train] Iteration 15000: loss value = 0.8627318143844604\n",
      "[validation] Iteration 15000: loss value = 1.0395870208740234\n",
      "[train] Iteration 20000: loss value = 0.9233042001724243\n",
      "[validation] Iteration 20000: loss value = 1.0370631217956543\n",
      "[train] Iteration 25000: loss value = 0.8747091293334961\n",
      "[validation] Iteration 25000: loss value = 1.0334053039550781\n",
      "[train] Iteration 30000: loss value = 0.9363369941711426\n",
      "[validation] Iteration 30000: loss value = 1.0291011333465576\n",
      "[train] Iteration 35000: loss value = 0.924534261226654\n",
      "[validation] Iteration 35000: loss value = 1.0284771919250488\n",
      "[train] Iteration 40000: loss value = 0.8814072608947754\n",
      "[validation] Iteration 40000: loss value = 1.026554822921753\n",
      "[train] Iteration 45000: loss value = 0.8682503700256348\n",
      "[validation] Iteration 45000: loss value = 1.0239107608795166\n",
      "Stopping main optimization loop, cause: max iteration is reached\n",
      "Final iteration 50000: train loss value = 0.9198341369628906\n",
      "validation loss value = 1.0225011110305786\n"
     ]
    },
    {
     "name": "stderr",
     "output_type": "stream",
     "text": [
      "/home/hugo/Documents/recherche/pinn/private_gitlab/jinns/loss/_LossPDE.py:364: UserWarning: Missing boundary function or no boundary condition.Boundary function is thus ignored.\n",
      "  warnings.warn(\n"
     ]
    }
   ],
   "source": [
    "start = time.time()\n",
    "params_spectralPINN, train_loss_values, loss_by_term_dict, train_data, loss, _, _, validation_loss_values = jinns.solve(\n",
    "    init_params=params,\n",
    "    data=train_data,\n",
    "    optimizer=tx,\n",
    "    loss=loss,\n",
    "    n_iter=n_iter,\n",
    "    print_loss_every=5000,\n",
    "    validation=validation\n",
    ")\n",
    "end = time.time()\n",
    "time_spectralPINN = int(end - start)"
   ]
  },
  {
   "cell_type": "code",
   "execution_count": 24,
   "id": "3f96cf7f-4086-456e-a871-3751920137d6",
   "metadata": {},
   "outputs": [
    {
     "data": {
      "image/png": "[encoded data removed]",
      "text/plain": [
       "<Figure size 640x480 with 1 Axes>"
      ]
     },
     "metadata": {},
     "output_type": "display_data"
    }
   ],
   "source": [
    "plt.plot(jnp.log10(train_loss_values), label=\"train loss\")\n",
    "plt.plot(jnp.log10(validation_loss_values), label=\"validation loss\")\n",
    "plt.title(f\"training time = {time_spectralPINN}s\")\n",
    "plt.legend()\n",
    "plt.show()"
   ]
  },
  {
   "cell_type": "code",
   "execution_count": 25,
   "id": "84fed66b-64e2-436b-8fb6-544ce627bcff",
   "metadata": {},
   "outputs": [],
   "source": [
    "spectralPINN_est = lambda x: spectralPINN(x, params_spectralPINN[\"nn_params\"])"
   ]
  },
  {
   "cell_type": "code",
   "execution_count": 26,
   "id": "f821d51c-6968-4baa-9c21-c2b9e4160084",
   "metadata": {},
   "outputs": [],
   "source": [
    "u_diff = lambda x: (Y[jnp.round(x[1]).astype(jnp.int32)+2*(practical_range),\n",
    "                            jnp.round(x[0]).astype(jnp.int32)+2*(practical_range)] - spectralPINN_est(x)) ** 2\n",
    "\n",
    "train_xy_data = [jnp.linspace(xmin-2*(practical_range), xmax+2*(practical_range), nx+4*(practical_range)),\n",
    "               jnp.linspace(ymin-2*(practical_range), ymax+2*(practical_range), ny+4*(practical_range))\n",
    "              ]\n",
    "mesh = jnp.meshgrid(val_xy_data[0],val_xy_data[1])\n",
    "coords = jnp.vstack([mesh[0].flatten(), mesh[1].flatten()]).T\n",
    "mse = jnp.mean(jax.vmap(u_diff)(coords))"
   ]
  },
  {
   "cell_type": "code",
   "execution_count": 27,
   "id": "0e17137a-9f81-407c-a575-ff096348ac19",
   "metadata": {
    "scrolled": true
   },
   "outputs": [
    {
     "data": {
      "image/png": "[encoded data removed]",
      "text/plain": [
       "<Figure size 1000x1000 with 6 Axes>"
      ]
     },
     "metadata": {},
     "output_type": "display_data"
    }
   ],
   "source": [
    "from mpl_toolkits.axes_grid1 import ImageGrid\n",
    "fig = plt.figure(figsize=(10, 10))\n",
    "axes = ImageGrid(\n",
    "    fig,\n",
    "    111,\n",
    "    nrows_ncols=(1, 3),\n",
    "    axes_pad=0.2,\n",
    "    share_all=True,\n",
    "    cbar_location=\"bottom\",\n",
    "    cbar_mode=\"each\",\n",
    "    cbar_size=\"7%\",\n",
    "    cbar_pad=0.4\n",
    ")\n",
    "\n",
    "im = axes[0].imshow(Y[2*(practical_range):-2*(practical_range),2*(practical_range):-2*(practical_range)], cmap=\"inferno\", origin=\"lower\", vmin=-3, vmax=4)\n",
    "\n",
    "axes[0].cax.colorbar(im, format=\"%0.2f\")\n",
    "\n",
    "\n",
    "jinns.data.plot2d(\n",
    "    spectralPINN_est,\n",
    "    xy_data = val_xy_data,\n",
    "    title=f\"spectralPINN it={n_iter}\",\n",
    "    vmin_vmax=(-3, 4),\n",
    "    ax_for_plot=axes[1]\n",
    ")\n",
    "jinns.data.plot2d(\n",
    "    u_diff,\n",
    "    xy_data = val_xy_data,\n",
    "    title=f\"spectralPINN MSE to truth={mse:0.2f}\",\n",
    "    ax_for_plot=axes[2],\n",
    "    vmin_vmax=(0, 1),\n",
    "\n",
    ")\n",
    "plt.show()"
   ]
  },
  {
   "cell_type": "markdown",
   "id": "12eac160-2e8a-4673-bb46-2823026e4a6b",
   "metadata": {},
   "source": [
    "**2) SinusPINN**"
   ]
  },
  {
   "cell_type": "code",
   "execution_count": 28,
   "id": "2a2af44a-2c0f-411f-9d50-f2e78e32863c",
   "metadata": {},
   "outputs": [],
   "source": [
    "@jit\n",
    "def x_sin2x_a(x, a):\n",
    "    \"\"\"\n",
    "    The activation function with a different frequency\n",
    "    \"\"\"\n",
    "    return x + jnp.sin(a * x) ** 2 / a\n",
    "\n",
    "list_layers_pinn = [\n",
    "    [eqx.nn.Linear, 2, 128],\n",
    "    [x_sin2x_a],\n",
    "    [eqx.nn.Linear, 128, 128],\n",
    "    [x_sin2x_a],\n",
    "    [eqx.nn.Linear, 128, 128],\n",
    "    [x_sin2x_a],\n",
    "    [eqx.nn.Linear, 128, 128],\n",
    "    [x_sin2x_a],\n",
    "    [eqx.nn.Linear, 128, 128],\n",
    "    [x_sin2x_a],\n",
    "    [eqx.nn.Linear, 128, 1],\n",
    "]\n",
    "list_layers_aux_nn = [\n",
    "    [eqx.nn.Linear, 2, 128],\n",
    "    [jax.nn.tanh],\n",
    "    [eqx.nn.Linear, 128, 128],\n",
    "    [jax.nn.tanh],\n",
    "    [eqx.nn.Linear, 128, 128],\n",
    "    [jax.nn.tanh],\n",
    "    [eqx.nn.Linear, 128, 128],\n",
    "    [jax.nn.tanh],\n",
    "    [eqx.nn.Linear, 128, 5], # the output must be the number of activations in list_layers_pinn\n",
    "]\n",
    "\n",
    "key, subkey = random.split(key)\n",
    "sinusPINN = jinns.experimental.create_sinusPINN(subkey, list_layers_pinn, list_layers_aux_nn)\n",
    "init_nn_params = sinusPINN.init_params()"
   ]
  },
  {
   "cell_type": "code",
   "execution_count": 29,
   "id": "60d54cc9-11c9-441b-b64b-7c4d0126e4b4",
   "metadata": {},
   "outputs": [],
   "source": [
    "init_params = {\n",
    "    \"nn_params\":init_nn_params,\n",
    "    \"eq_params\":{\n",
    "        \"kappa\":scale,\n",
    "        \"source_term\":source_term.T#0. # will be replaced by a function #jnp.asarray(source_term)\n",
    "    }\n",
    "}"
   ]
  },
  {
   "cell_type": "code",
   "execution_count": 30,
   "id": "e1c09d3f-406e-471b-9642-a646864e03a1",
   "metadata": {},
   "outputs": [
    {
     "name": "stderr",
     "output_type": "stream",
     "text": [
      "/home/hugo/Documents/recherche/pinn/private_gitlab/jinns/loss/_LossPDE.py:364: UserWarning: Missing boundary function or no boundary condition.Boundary function is thus ignored.\n",
      "  warnings.warn(\n"
     ]
    }
   ],
   "source": [
    "loss_weights = {\"dyn_loss\":1}\n",
    "\n",
    "loss = jinns.loss.LossPDEStatio(\n",
    "    u=sinusPINN,\n",
    "    loss_weights=loss_weights,\n",
    "    dynamic_loss=dynamic_loss\n",
    ")"
   ]
  },
  {
   "cell_type": "markdown",
   "id": "411f2b0e-d0ff-4c8a-a468-27cc50a7ca2f",
   "metadata": {},
   "source": [
    "we need to update the `validation.loss` attribute because it needs the new loss object!"
   ]
  },
  {
   "cell_type": "code",
   "execution_count": 31,
   "id": "759ee8e1-4b0b-459d-9556-b8416bbb0027",
   "metadata": {},
   "outputs": [],
   "source": [
    "validation = eqx.tree_at(lambda m: m.loss, validation, loss)"
   ]
  },
  {
   "cell_type": "code",
   "execution_count": 32,
   "id": "bb8f2c88-73c1-4f3c-9d19-6a6ea200f623",
   "metadata": {},
   "outputs": [],
   "source": [
    "params = init_params"
   ]
  },
  {
   "cell_type": "code",
   "execution_count": 33,
   "id": "f8eb426f-1597-4e18-a3a1-640e73e7aa8f",
   "metadata": {},
   "outputs": [],
   "source": [
    "import optax\n",
    "tx = optax.adam(learning_rate=1e-4)\n",
    "n_iter = int(50000)"
   ]
  },
  {
   "cell_type": "code",
   "execution_count": null,
   "id": "264ac99f-b6f8-4025-8a90-76a451b040ca",
   "metadata": {},
   "outputs": [
    {
     "name": "stderr",
     "output_type": "stream",
     "text": [
      "/home/hugo/Documents/recherche/pinn/private_gitlab/jinns/loss/_LossPDE.py:364: UserWarning: Missing boundary function or no boundary condition.Boundary function is thus ignored.\n",
      "  warnings.warn(\n",
      "/home/hugo/Documents/recherche/pinn/private_gitlab/jinns/loss/_LossPDE.py:364: UserWarning: Missing boundary function or no boundary condition.Boundary function is thus ignored.\n",
      "  warnings.warn(\n",
      "/home/hugo/Documents/recherche/pinn/private_gitlab/jinns/loss/_LossPDE.py:364: UserWarning: Missing boundary function or no boundary condition.Boundary function is thus ignored.\n",
      "  warnings.warn(\n",
      "/home/hugo/Documents/recherche/pinn/private_gitlab/jinns/loss/_LossPDE.py:364: UserWarning: Missing boundary function or no boundary condition.Boundary function is thus ignored.\n",
      "  warnings.warn(\n",
      "/home/hugo/Documents/recherche/pinn/private_gitlab/jinns/loss/_LossPDE.py:364: UserWarning: Missing boundary function or no boundary condition.Boundary function is thus ignored.\n",
      "  warnings.warn(\n",
      "/home/hugo/Documents/recherche/pinn/private_gitlab/jinns/loss/_LossPDE.py:364: UserWarning: Missing boundary function or no boundary condition.Boundary function is thus ignored.\n",
      "  warnings.warn(\n"
     ]
    },
    {
     "name": "stdout",
     "output_type": "stream",
     "text": [
      "[train] Iteration 0: loss value = 1.1657485961914062\n",
      "[validation] Iteration 0: loss value = 1.0337038040161133\n",
      "[train] Iteration 5000: loss value = 0.377750039100647\n",
      "[validation] Iteration 5000: loss value = 0.4135707914829254\n"
     ]
    }
   ],
   "source": [
    "start = time.time()\n",
    "params_sinusPINN, train_loss_values, loss_by_term_dict, train_data, loss, _, _, validation_loss_values = jinns.solve(\n",
    "    init_params=params,\n",
    "    data=train_data,\n",
    "    optimizer=tx,\n",
    "    loss=loss,\n",
    "    n_iter=n_iter,\n",
    "    print_loss_every=5000,\n",
    "    validation=validation\n",
    ")\n",
    "end = time.time()\n",
    "time_sinusPINN = int(end - start)"
   ]
  },
  {
   "cell_type": "code",
   "execution_count": null,
   "id": "ffdc86fd-df25-4063-8698-a77742485796",
   "metadata": {},
   "outputs": [],
   "source": [
    "plt.plot(jnp.log10(train_loss_values), label=\"train loss\")\n",
    "plt.plot(jnp.log10(validation_loss_values), label=\"validation loss\")\n",
    "plt.legend()\n",
    "plt.title(f\"training time = {time_sinusPINN}s\")\n",
    "plt.show()"
   ]
  },
  {
   "cell_type": "code",
   "execution_count": null,
   "id": "5ec2d39e-9c14-4119-b725-b3350867f026",
   "metadata": {},
   "outputs": [],
   "source": [
    "sinusPINN_est = lambda x: sinusPINN(x, params_sinusPINN[\"nn_params\"])"
   ]
  },
  {
   "cell_type": "code",
   "execution_count": null,
   "id": "1323827a-4837-4e0d-b42b-4e2554156d44",
   "metadata": {},
   "outputs": [],
   "source": [
    "u_diff2 = lambda x: (Y[jnp.round(x[1]).astype(jnp.int32)+2*(practical_range),\n",
    "                            jnp.round(x[0]).astype(jnp.int32)+2*(practical_range)] - sinusPINN_est(x)) ** 2\n",
    "\n",
    "\n",
    "mesh = jnp.meshgrid(val_xy_data[0],val_xy_data[1])\n",
    "coords = jnp.vstack([mesh[0].flatten(), mesh[1].flatten()]).T\n",
    "mse2 = jnp.mean(jax.vmap(u_diff2)(coords))"
   ]
  },
  {
   "cell_type": "code",
   "execution_count": null,
   "id": "efac56ff-7f14-407d-a863-830bd62caa85",
   "metadata": {},
   "outputs": [],
   "source": [
    "from mpl_toolkits.axes_grid1 import ImageGrid\n",
    "\n",
    "fig = plt.figure(figsize=(10, 10))\n",
    "axes = ImageGrid(\n",
    "    fig,\n",
    "    111,\n",
    "    nrows_ncols=(1, 3),\n",
    "    axes_pad=0.5,\n",
    "    share_all=True,\n",
    "    cbar_location=\"bottom\",\n",
    "    cbar_mode=\"each\",\n",
    "    cbar_size=\"7%\",\n",
    "    cbar_pad=0.4\n",
    ")\n",
    "# jinns.data.plot2d(\n",
    "#     u_true,\n",
    "#     xy_data = val_xy_data,\n",
    "#     title=\"Spectral simulation (truth)\",\n",
    "#     vmin_vmax=(-3, 4),\n",
    "#     ax_for_plot=axes[0]\n",
    "# )\n",
    "im = axes[0].imshow(Y[2*(practical_range):-2*(practical_range)+1,2*(practical_range):-2*(practical_range)+1], origin=\"lower\", cmap=\"inferno\", vmin=-3, vmax=4)\n",
    "axes[0].cax.colorbar(im, format=\"%0.2f\")\n",
    "print(val_xy_data)\n",
    "jinns.data.plot2d(\n",
    "    sinusPINN_est,\n",
    "    xy_data = val_xy_data,\n",
    "    title=f\"sinusPINN it={n_iter}\",\n",
    "    vmin_vmax=(-3, 4),\n",
    "    ax_for_plot=axes[1]\n",
    ")\n",
    "\n",
    "jinns.data.plot2d(\n",
    "    u_diff2,\n",
    "    xy_data = val_xy_data,\n",
    "    title=f\"sinusPINN MSE to truth={mse2:0.2f}\",\n",
    "    vmin_vmax=(0, 1),\n",
    "    ax_for_plot=axes[2]\n",
    ")\n",
    "plt.show()"
   ]
  },
  {
   "cell_type": "code",
   "execution_count": null,
   "id": "0b3a4391-8530-412e-a7f7-ac670aed2d30",
   "metadata": {},
   "outputs": [],
   "source": [
    "# def Lu(x, u, params):\n",
    "#     u_ = lambda x:u(x).squeeze()\n",
    "#     return kappa ** 2 * u(x) - jnp.trace(jax.hessian(u_)(x))\n",
    "# Lu_sinusPINN = lambda x: (Lu(x, sinusPINN_est, params_sinusPINN[\"nn_params\"]) - source_term[jnp.round(x[0]).astype(jnp.int32)+2*(practical_range),\n",
    "#                             jnp.round(x[1]).astype(jnp.int32)+2*(practical_range)])**2\n",
    "# mesh = jnp.meshgrid(val_xy_data[0],val_xy_data[1])\n",
    "# coords = jnp.vstack([mesh[0].flatten(), mesh[1].flatten()]).T\n",
    "# mse = jnp.mean(jax.vmap(Lu_sinusPINN)(coords))\n",
    "# print(mse)"
   ]
  },
  {
   "cell_type": "markdown",
   "id": "cfbf1e79-81c2-4e0a-9a5f-b2abae9ea5ff",
   "metadata": {},
   "source": [
    "Instanciate a **traditional PINN architecture** for comparison"
   ]
  },
  {
   "cell_type": "code",
   "execution_count": null,
   "id": "8f76e554-cc03-4dfe-b733-13e43b9fe4f8",
   "metadata": {},
   "outputs": [],
   "source": [
    "list_layers_pinn = [\n",
    "    [eqx.nn.Linear, 2, 128],\n",
    "    [jax.nn.tanh],\n",
    "    [eqx.nn.Linear, 128, 128],\n",
    "    [jax.nn.tanh],\n",
    "    [eqx.nn.Linear, 128, 128],\n",
    "    [jax.nn.tanh],\n",
    "    [eqx.nn.Linear, 128, 128],\n",
    "    [jax.nn.tanh],\n",
    "    [eqx.nn.Linear, 128, 128],\n",
    "    [jax.nn.tanh],\n",
    "    [eqx.nn.Linear, 128, 1],\n",
    "]\n",
    "\n",
    "key, subkey = random.split(key)\n",
    "PINN = jinns.utils.create_PINN(subkey, list_layers_pinn, \"statio_PDE\", 2)\n",
    "init_nn_params = PINN.init_params()"
   ]
  },
  {
   "cell_type": "code",
   "execution_count": null,
   "id": "041f6655-98a1-46a8-b961-44bdb9b26458",
   "metadata": {},
   "outputs": [],
   "source": [
    "init_params = {\n",
    "    \"nn_params\":init_nn_params,\n",
    "    \"eq_params\":{\n",
    "        \"kappa\":scale,\n",
    "        \"source_term\":source_term # will be replaced by a function #jnp.asarray(source_term)\n",
    "    }\n",
    "}"
   ]
  },
  {
   "cell_type": "code",
   "execution_count": null,
   "id": "f886caa1-9218-45bd-975b-d0cf230142d0",
   "metadata": {},
   "outputs": [],
   "source": [
    "loss_weights = {\"dyn_loss\":1}\n",
    "\n",
    "loss = jinns.loss.LossPDEStatio(\n",
    "    u=PINN,\n",
    "    loss_weights=loss_weights,\n",
    "    dynamic_loss=dynamic_loss\n",
    ")"
   ]
  },
  {
   "cell_type": "markdown",
   "id": "2ce70a89-f8b0-4a86-b2a7-3627beb12b3c",
   "metadata": {},
   "source": [
    "we need to update the validation.loss attribute because it needs the new loss object!"
   ]
  },
  {
   "cell_type": "code",
   "execution_count": null,
   "id": "87a4f735-c357-43b6-9439-ef485556db7f",
   "metadata": {},
   "outputs": [],
   "source": [
    "validation = eqx.tree_at(lambda m: m.loss, validation, loss)"
   ]
  },
  {
   "cell_type": "code",
   "execution_count": null,
   "id": "450e15db-4961-4cf3-a8d5-c58669446d74",
   "metadata": {},
   "outputs": [],
   "source": [
    "params = init_params"
   ]
  },
  {
   "cell_type": "code",
   "execution_count": null,
   "id": "b00d3da3-5c5a-49d2-95fe-5395e7057185",
   "metadata": {},
   "outputs": [],
   "source": [
    "tx = optax.adam(learning_rate=1e-4)\n",
    "n_iter = int(50000)"
   ]
  },
  {
   "cell_type": "code",
   "execution_count": null,
   "id": "1937ccf8-83d3-4759-abdd-a934719ffadf",
   "metadata": {},
   "outputs": [],
   "source": [
    "start = time.time()\n",
    "params_PINN, train_loss_values, loss_by_term_dict, train_data, loss, _, _, validation_loss_values = jinns.solve(\n",
    "    init_params=params,\n",
    "    data=train_data,\n",
    "    optimizer=tx,\n",
    "    loss=loss,\n",
    "    n_iter=n_iter,\n",
    "    print_loss_every=5000,\n",
    "    validation=validation\n",
    ")\n",
    "end = time.time()\n",
    "time_PINN = int(end - start)"
   ]
  },
  {
   "cell_type": "code",
   "execution_count": null,
   "id": "067024ca-3de8-4b95-9154-4a603f9acc8e",
   "metadata": {},
   "outputs": [],
   "source": [
    "plt.plot(jnp.log10(train_loss_values), label=\"train loss\")\n",
    "plt.plot(jnp.log10(validation_loss_values), label=\"validation loss\")\n",
    "plt.legend()\n",
    "plt.title(f\"training time = {time_PINN}s\")\n",
    "plt.show()"
   ]
  },
  {
   "cell_type": "code",
   "execution_count": null,
   "id": "e2b791e3-380a-4cd7-8188-0e2f399be6e7",
   "metadata": {},
   "outputs": [],
   "source": [
    "PINN_est = lambda x: PINN(x, params_PINN[\"nn_params\"])"
   ]
  },
  {
   "cell_type": "code",
   "execution_count": null,
   "id": "6e9e01df-ee22-4b2c-8429-7d2e1c4b03bb",
   "metadata": {},
   "outputs": [],
   "source": [
    "u_diff3 = lambda x: (u_true(x) - PINN_est(x)) ** 2\n",
    "\n",
    "mesh = jnp.meshgrid(val_xy_data[0],val_xy_data[1])\n",
    "coords = jnp.vstack([mesh[0].flatten(), mesh[1].flatten()]).T\n",
    "mse3 = jnp.mean(jax.vmap(u_diff3)(coords))"
   ]
  },
  {
   "cell_type": "code",
   "execution_count": null,
   "id": "2f017857-9fca-45a7-ae0b-28bab6225caa",
   "metadata": {},
   "outputs": [],
   "source": [
    "fig = plt.figure(figsize=(10, 10))\n",
    "axes = ImageGrid(\n",
    "    fig,\n",
    "    111,\n",
    "    nrows_ncols=(1, 3),\n",
    "    axes_pad=0.5,\n",
    "    share_all=True,\n",
    "    cbar_location=\"bottom\",\n",
    "    cbar_mode=\"each\",\n",
    "    cbar_size=\"7%\",\n",
    "    cbar_pad=0.4\n",
    ")\n",
    "jinns.data.plot2d(\n",
    "    u_true,\n",
    "    xy_data = val_xy_data,\n",
    "    title=\"Spectral simulation (truth)\",\n",
    "    vmin_vmax=(-3, 4),\n",
    "    ax_for_plot=axes[0]\n",
    ")\n",
    "\n",
    "jinns.data.plot2d(\n",
    "    PINN_est,\n",
    "    xy_data = val_xy_data,\n",
    "    title=f\"PINN iteration={n_iter}\",\n",
    "    vmin_vmax=(-3, 4),\n",
    "    ax_for_plot=axes[1]\n",
    ")\n",
    "jinns.data.plot2d(\n",
    "    u_diff3,\n",
    "    xy_data = val_xy_data,\n",
    "    title=f\"(truth-spectralPINN)^2 MSE={mse3:0.2f}\",\n",
    "    ax_for_plot=axes[2],\n",
    "    vmin_vmax=(0, 2),\n",
    ")\n",
    "plt.show()"
   ]
  },
  {
   "cell_type": "markdown",
   "id": "a34547cd-ebc7-4982-b50a-b30e718f35d6",
   "metadata": {},
   "source": [
    "## Final comparison"
   ]
  },
  {
   "cell_type": "code",
   "execution_count": null,
   "id": "c2003296-e69e-4703-b742-b3d72772d412",
   "metadata": {},
   "outputs": [],
   "source": [
    "print(f\"{time_spectralPINN=}s, {time_sinusPINN=}s, {time_PINN=}s\")\n",
    "fig = plt.figure(figsize=(16, 16))\n",
    "axes = ImageGrid(\n",
    "    fig,\n",
    "    111,\n",
    "    nrows_ncols=(2, 4),\n",
    "    axes_pad=0.5,\n",
    "    share_all=True,\n",
    "    cbar_location=\"bottom\",\n",
    "    cbar_mode=\"each\",\n",
    "    cbar_size=\"7%\",\n",
    "    cbar_pad=0.4\n",
    ")\n",
    "jinns.data.plot2d(\n",
    "    u_true,\n",
    "    xy_data = val_xy_data,\n",
    "    title=\"Spectral simulation (truth)\",\n",
    "    vmin_vmax=(-3, 4),\n",
    "    ax_for_plot=axes[0]\n",
    ")\n",
    "\n",
    "jinns.data.plot2d(\n",
    "    spectralPINN_est,\n",
    "    xy_data = val_xy_data,\n",
    "    title=f\"spectralPINN it={n_iter}\",\n",
    "    vmin_vmax=(-3, 4),\n",
    "    ax_for_plot=axes[1]\n",
    ")\n",
    "jinns.data.plot2d(\n",
    "    u_diff,\n",
    "    xy_data = val_xy_data,\n",
    "    title=f\"spectralPINN MSE to truth={mse:0.2f}\",\n",
    "    ax_for_plot=axes[2],\n",
    "    vmin_vmax=(0, 2),\n",
    ")\n",
    "jinns.data.plot2d(\n",
    "    sinusPINN_est,\n",
    "    xy_data = val_xy_data,\n",
    "    title=f\"sinusPINN it={n_iter}\",\n",
    "    vmin_vmax=(-3, 4),\n",
    "    ax_for_plot=axes[3]\n",
    ")\n",
    "\n",
    "jinns.data.plot2d(\n",
    "    u_diff2,\n",
    "    xy_data = val_xy_data,\n",
    "    title=f\"sinusPINN MSE to truth={mse2:0.2f}\",\n",
    "    vmin_vmax=(0, 2),\n",
    "    ax_for_plot=axes[4]\n",
    ")\n",
    "jinns.data.plot2d(\n",
    "    PINN_est,\n",
    "    xy_data = val_xy_data,\n",
    "    title=f\"PINN it={n_iter}\",\n",
    "    vmin_vmax=(-3, 4),\n",
    "    ax_for_plot=axes[5]\n",
    ")\n",
    "jinns.data.plot2d(\n",
    "    u_diff3,\n",
    "    xy_data = val_xy_data,\n",
    "    title=f\"PINN MSE to truth={mse3:0.2f}\",\n",
    "    ax_for_plot=axes[6],\n",
    "    vmin_vmax=(0, 2),\n",
    ")\n",
    "plt.show()"
   ]
  },
  {
   "cell_type": "code",
   "execution_count": null,
   "id": "c80f97cb-eded-4f74-9b8a-d863c1bd660e",
   "metadata": {},
   "outputs": [],
   "source": []
  }
 ],
 "metadata": {
  "kernelspec": {
   "display_name": "Python 3 (ipykernel)",
   "language": "python",
   "name": "python3"
  },
  "language_info": {
   "codemirror_mode": {
    "name": "ipython",
    "version": 3
   },
   "file_extension": ".py",
   "mimetype": "text/x-python",
   "name": "python",
   "nbconvert_exporter": "python",
   "pygments_lexer": "ipython3",
   "version": "3.11.2"
  }
 },
 "nbformat": 4,
 "nbformat_minor": 5
}
