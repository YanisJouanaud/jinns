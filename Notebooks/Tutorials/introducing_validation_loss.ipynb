{
 "cells": [
  {
   "cell_type": "markdown",
   "id": "40925fec",
   "metadata": {},
   "source": [
    "# Introducing a validation loss\n",
    "SPINN model to solve Fisher KPP on bounded domain in 1D.\n",
    "\n",
    "**This notebook aims at introducing the usage of a validation in** **jinns**"
   ]
  },
  {
   "cell_type": "markdown",
   "id": "b825efcb",
   "metadata": {},
   "source": [
    "$$\n",
    "\\begin{cases}\n",
    "\\frac{\\partial}{\\partial t} u(t,x)=D\\frac{\\partial^2}{\\partial x^2} u(t,x) + u(t,x)(r(x) - \\gamma(x)u(t,x)), t\\geq 0, x\\in [0,l]\\\\\n",
    "u(t,0)=u(t,l)=0,t\\geq 0, \\text{Dirichlet condition}\\\\\n",
    "u(0,x)=u_0(x),x\\in [0,l]\n",
    "\\end{cases}\n",
    "$$"
   ]
  },
  {
   "cell_type": "markdown",
   "id": "69b6e728",
   "metadata": {},
   "source": [
    "In all that follows, $r(x)$, $\\gamma(x)$ et $D$ are considered constant.\n",
    "\n",
    "For more details about this experiment, see also the notebook _Fisher KPP on bounded domain in 1D (PINN and SPINN)_\n"
   ]
  },
  {
   "cell_type": "code",
   "execution_count": 20,
   "id": "8bf8bebc-b311-4eb4-ad63-11447f62b280",
   "metadata": {},
   "outputs": [
    {
     "name": "stdout",
     "output_type": "stream",
     "text": [
      "The autoreload extension is already loaded. To reload it, use:\n",
      "  %reload_ext autoreload\n"
     ]
    }
   ],
   "source": [
    "%load_ext autoreload\n",
    "%autoreload 2\n",
    "%matplotlib inline"
   ]
  },
  {
   "cell_type": "markdown",
   "id": "22360ece",
   "metadata": {},
   "source": [
    "Float64 and GPU settings"
   ]
  },
  {
   "cell_type": "code",
   "execution_count": 21,
   "id": "5cdc87e2",
   "metadata": {},
   "outputs": [],
   "source": [
    "#import os; os.environ[\"JAX_ENABLE_X64\"] = \"TRUE\" # comment/uncomment to  disable/enable float64 for JAX\n",
    "#import os; os.environ[\"CUDA_VISIBLE_DEVICES\"]=\"\" # If uncommented then GPU is disable\n"
   ]
  },
  {
   "cell_type": "markdown",
   "id": "d5e6f34f",
   "metadata": {},
   "source": [
    "Import our package"
   ]
  },
  {
   "cell_type": "code",
   "execution_count": 22,
   "id": "fbdd16f7",
   "metadata": {},
   "outputs": [],
   "source": [
    "import jinns\n"
   ]
  },
  {
   "cell_type": "markdown",
   "id": "26f60b11",
   "metadata": {},
   "source": [
    "Import other dependencies"
   ]
  },
  {
   "cell_type": "code",
   "execution_count": 23,
   "id": "3abe5254-7556-424e-a57e-d364d67244a1",
   "metadata": {},
   "outputs": [],
   "source": [
    "import jax\n",
    "from jax import random, vmap\n",
    "import jax.numpy as jnp\n",
    "import equinox as eqx\n",
    "from functools import partial\n",
    "\n",
    "import matplotlib.pyplot as plt\n",
    "\n",
    "key = random.PRNGKey(2)\n"
   ]
  },
  {
   "cell_type": "markdown",
   "id": "26b96440-60c7-4318-9254-f943b6e81535",
   "metadata": {},
   "source": [
    "Create the neural network architecture for the PINN"
   ]
  },
  {
   "cell_type": "markdown",
   "id": "f58d2c8d-9094-406f-acff-b7ed90748177",
   "metadata": {},
   "source": [
    "Create the SPINN"
   ]
  },
  {
   "cell_type": "code",
   "execution_count": 24,
   "id": "22fec0cd-d9f1-42d6-ada3-1d8fcc55d50b",
   "metadata": {},
   "outputs": [],
   "source": [
    "d = 2\n",
    "r = 256\n",
    "eqx_list = [\n",
    "    [eqx.nn.Linear, 1, 128],\n",
    "    [jax.nn.tanh],\n",
    "    [eqx.nn.Linear, 128, 128],\n",
    "    [jax.nn.tanh],\n",
    "    [eqx.nn.Linear, 128, 128],\n",
    "    [jax.nn.tanh],\n",
    "    [eqx.nn.Linear, 128, r],\n",
    "]\n",
    "key, subkey = random.split(key)\n",
    "u_spinn = jinns.utils.create_SPINN(subkey, d, r, eqx_list, \"nonstatio_PDE\")"
   ]
  },
  {
   "cell_type": "code",
   "execution_count": 25,
   "id": "3766fd2d",
   "metadata": {},
   "outputs": [],
   "source": [
    "init_nn_params_spinn = u_spinn.init_params()"
   ]
  },
  {
   "cell_type": "markdown",
   "id": "1f2cfe2b-0659-45db-be9d-57c2513fe35c",
   "metadata": {},
   "source": [
    "Create a DataGenerator object for the training data"
   ]
  },
  {
   "cell_type": "code",
   "execution_count": 26,
   "id": "faa41061-a276-4beb-931f-fcf2573b0095",
   "metadata": {},
   "outputs": [],
   "source": [
    "n = 1000\n",
    "nb = 2\n",
    "nt = 1000\n",
    "omega_batch_size = 32\n",
    "temporal_batch_size = 32\n",
    "omega_border_batch_size = 2\n",
    "dim = 1\n",
    "xmin = -1\n",
    "xmax = 1\n",
    "tmin = 0\n",
    "tmax = 1\n",
    "method = \"uniform\"\n",
    "\n",
    "Tmax = 5\n",
    "key, subkey = random.split(key)\n",
    "train_data = jinns.data.CubicMeshPDENonStatio(\n",
    "    subkey,\n",
    "    n,\n",
    "    nb,\n",
    "    nt,\n",
    "    omega_batch_size,\n",
    "    omega_border_batch_size,\n",
    "    temporal_batch_size,\n",
    "    dim,\n",
    "    (xmin,),\n",
    "    (xmax,),\n",
    "    tmin,\n",
    "    tmax,\n",
    "    method\n",
    ")\n"
   ]
  },
  {
   "cell_type": "markdown",
   "id": "ca7fbaef",
   "metadata": {},
   "source": [
    "## Set up the initial condition"
   ]
  },
  {
   "cell_type": "code",
   "execution_count": 27,
   "id": "9cd4db15-e476-46de-9d98-a74b25b859df",
   "metadata": {},
   "outputs": [
    {
     "data": {
      "text/plain": [
       "Text(0.5, 1.0, 'Init condition $u_0$')"
      ]
     },
     "execution_count": 27,
     "metadata": {},
     "output_type": "execute_result"
    },
    {
     "data": {
      "image/png": "[encoded data removed]",
      "text/plain": [
       "<Figure size 640x480 with 1 Axes>"
      ]
     },
     "metadata": {},
     "output_type": "display_data"
    }
   ],
   "source": [
    "from jax.scipy.stats import norm\n",
    "# true solution N(0,1)\n",
    "sigma_init = 0.2 * jnp.ones((1))\n",
    "mu_init = 0 * jnp.ones((1))\n",
    "\n",
    "def u0(x):\n",
    "    return jnp.squeeze(norm.pdf(x, loc=mu_init, scale=sigma_init))\n",
    "\n",
    "plt.plot(train_data.omega.sort(axis=0), vmap(u0, (0), 0)(train_data.omega.sort(axis=0)))\n",
    "plt.title(r\"Init condition $u_0$\")"
   ]
  },
  {
   "cell_type": "markdown",
   "id": "f0701671",
   "metadata": {},
   "source": [
    "## Model parameters"
   ]
  },
  {
   "cell_type": "code",
   "execution_count": 28,
   "id": "8c609f60",
   "metadata": {},
   "outputs": [],
   "source": [
    "# Example III.29 is persistent with D = 1, r = 4,  g = 3\n",
    "D = 1.\n",
    "r = 4.\n",
    "g = 3.\n",
    "l = xmax - xmin\n",
    "boundary_condition = \"dirichlet\"\n",
    "omega_boundary_fun = lambda t, dx: 0 # cte func returning 0"
   ]
  },
  {
   "cell_type": "markdown",
   "id": "de918e1e",
   "metadata": {},
   "source": [
    "A set of parameters as required by the losses' `evaluate` functions is a dictionary with the neural network parameters `nn_params` and the equation parameters `eq_params`. Here we construct this dictionary"
   ]
  },
  {
   "cell_type": "code",
   "execution_count": 29,
   "id": "60b58c46",
   "metadata": {},
   "outputs": [],
   "source": [
    "init_params_spinn = {\n",
    "    \"nn_params\":init_nn_params_spinn,\n",
    "    \"eq_params\":{\n",
    "        \"D\":jnp.array([D]),\n",
    "        \"r\":jnp.array([r]),\n",
    "        \"g\":jnp.array([g])\n",
    "    }\n",
    "}"
   ]
  },
  {
   "cell_type": "markdown",
   "id": "aa14a602-1b0e-4582-876e-99d0322c57a0",
   "metadata": {},
   "source": [
    "## Loss construction"
   ]
  },
  {
   "cell_type": "code",
   "execution_count": 30,
   "id": "b6a65062",
   "metadata": {},
   "outputs": [],
   "source": [
    "fisher_dynamic_loss = jinns.loss.FisherKPP(\n",
    "    Tmax=Tmax\n",
    ")"
   ]
  },
  {
   "cell_type": "markdown",
   "id": "4c1900be-eaa7-412f-b78a-802e38286c51",
   "metadata": {},
   "source": [
    "Loss for the SPINN"
   ]
  },
  {
   "cell_type": "code",
   "execution_count": 31,
   "id": "3014188a-5fcc-4e8b-9d96-bb4f159895ab",
   "metadata": {},
   "outputs": [],
   "source": [
    "loss_weights = {\"dyn_loss\":1, \"initial_condition\": 1 * Tmax, \"boundary_loss\":1 * Tmax}\n",
    "\n",
    "loss_spinn = jinns.loss.LossPDENonStatio(\n",
    "    u=u_spinn,\n",
    "    loss_weights=loss_weights,\n",
    "    dynamic_loss=fisher_dynamic_loss,\n",
    "    omega_boundary_fun=omega_boundary_fun,\n",
    "    omega_boundary_condition=boundary_condition,\n",
    "    initial_condition_fun=u0,\n",
    "    norm_key=None,\n",
    "    norm_borders=None,\n",
    "    norm_samples=None\n",
    ")"
   ]
  },
  {
   "cell_type": "markdown",
   "id": "59b610bb",
   "metadata": {},
   "source": [
    "## Setting up the validation step"
   ]
  },
  {
   "cell_type": "markdown",
   "id": "0b6c7299-d803-4744-9c96-286fe5e86d6b",
   "metadata": {},
   "source": [
    "**Create a DataGenerator object for the validation data**: The same as for the train data but we do not want mini-batches over the validation dataset. We simply let the size of the batch be the total size of the dataset `omega_batch_size=n` and `temporal_batch_size=nt`."
   ]
  },
  {
   "cell_type": "code",
   "execution_count": 32,
   "id": "403c88c0-9cef-45f0-b37f-d3ce083c400d",
   "metadata": {},
   "outputs": [],
   "source": [
    "n = 1000\n",
    "nb = 2\n",
    "nt = 1000\n",
    "omega_batch_size = 1000\n",
    "temporal_batch_size = 1000\n",
    "omega_border_batch_size = 2 # Recall that the size here is irrelevant when the dimension of $\\Omega$ is 1\n",
    "\n",
    "Tmax = 5\n",
    "key, subkey = random.split(key)\n",
    "validation_data = jinns.data.CubicMeshPDENonStatio(\n",
    "    subkey,\n",
    "    n,\n",
    "    nb,\n",
    "    nt,\n",
    "    omega_batch_size,\n",
    "    omega_border_batch_size,\n",
    "    temporal_batch_size,\n",
    "    dim,\n",
    "    (xmin,),\n",
    "    (xmax,),\n",
    "    tmin,\n",
    "    tmax,\n",
    "    method\n",
    ")\n"
   ]
  },
  {
   "cell_type": "markdown",
   "id": "34ed62f2-eb57-47c1-a56f-dbc3a598cf12",
   "metadata": {},
   "source": [
    "The validation step can be very general. It consist is based around a function [ THAT WE HERE DEFINE XXXX ]"
   ]
  },
  {
   "cell_type": "markdown",
   "id": "fad8ee45-9a03-4a54-89ae-3abcb731c146",
   "metadata": {},
   "source": [
    "We here load a basic validation procedure provided by default in **jinns** (`eval_validation_loss_and_early_stopping`). This consists of evaluating the loss on the validation dataset and triggering (or not) an early stopping procedure.\n",
    "We must also load and instanciate the corresponding NamedTuple of hyperparams for this validation strategy (`ValidationLossEarlyStoppingHyperparams`).\n",
    "\n",
    "Note that the `call_every` hyperparameter which represents how often is the validation step called is an hyperparameter that is always required."
   ]
  },
  {
   "cell_type": "code",
   "execution_count": 37,
   "id": "28a161bf-32e1-43b6-bea9-483fb9eb923a",
   "metadata": {},
   "outputs": [
    {
     "name": "stdout",
     "output_type": "stream",
     "text": [
      "[0.]\n"
     ]
    }
   ],
   "source": [
    "from jinns.validation import VanillaValidation\n",
    "import copy\n",
    "validation = VanillaValidation(\n",
    "    loss = copy.deepcopy(loss_spinn), # important\n",
    "    validation_data = copy.deepcopy(validation_data),\n",
    "    validation_param_data = None,\n",
    "    validation_obs_data = None,\n",
    "    call_every=250,\n",
    "    early_stopping=True,\n",
    "    patience=10,\n",
    "    counter=None,\n",
    "    best_val_loss=None,\n",
    ")\n",
    "\n",
    "print(validation.counter)\n"
   ]
  },
  {
   "cell_type": "markdown",
   "id": "8953a4f8-b307-4ae0-b980-794009e51eb2",
   "metadata": {},
   "source": [
    "We set up the `validation` argument for the call to `solve()`. As stated by the doc, this argument consists in a tuple of 5 elements:\n",
    "\n",
    "- validation_data: a DataGenerator of the same type of data for validation dataset for the collocation points. Can be None depending on the validation loss that is used\n",
    "- validation_param_data: a DataGenerator of the same type of `param_data` for validation dataset for the collocation points. Can be None depending on the validation loss that is used                                \n",
    "- validation_obs_data: a DataGenerator of the same type of `obs_data` for validation dataset for the collocation points. Can be None depending on the validation loss that is used                                \n",
    "- fun: a function that is called after every gradient step to compute validation quantities with the validation DataGenerator\n",
    "- hyperparams: a pytree which contains the validation parameters that fun needs to function     "
   ]
  },
  {
   "cell_type": "code",
   "execution_count": 38,
   "id": "c6205e16-c8da-424c-8c0f-cb46e0254d44",
   "metadata": {},
   "outputs": [
    {
     "ename": "UnexpectedTracerError",
     "evalue": "Encountered an unexpected tracer. A function transformed by JAX had a side effect, allowing for a reference to an intermediate value with type uint32[2] wrapped in a DynamicJaxprTracer to escape the scope of the transformation.\nJAX transformations require that functions explicitly return their outputs, and disallow saving intermediate values to global state.\nThe function being traced when the value leaked was <lambda> at /home/nicolas/Recherche/INRAE/PINN/jinns/jinns/solver/_solve.py:297 traced for cond.\n------------------------------\nThe leaked intermediate value was created on line /home/nicolas/Recherche/INRAE/PINN/jinns/jinns/data/_DataGenerators.py:96:11 (_reset_or_increment). \n------------------------------\nWhen the value was created, the final 5 stack frames (most recent last) excluding JAX-internal frames were:\n------------------------------\n/home/nicolas/Recherche/INRAE/PINN/jinns/jinns/solver/_solve.py:297:33 (solve.<locals>.one_iteration.<locals>.<lambda>)\n/home/nicolas/Recherche/INRAE/PINN/jinns/jinns/validation/_validation.py:83:20 (VanillaValidation.__call__)\n/home/nicolas/Recherche/INRAE/PINN/jinns/jinns/data/_DataGenerators.py:1009:27 (CubicMeshPDENonStatio.get_batch)\n/home/nicolas/Recherche/INRAE/PINN/jinns/jinns/data/_DataGenerators.py:988:54 (CubicMeshPDENonStatio.temporal_batch)\n/home/nicolas/Recherche/INRAE/PINN/jinns/jinns/data/_DataGenerators.py:96:11 (_reset_or_increment)\n------------------------------\n\nTo catch the leak earlier, try setting the environment variable JAX_CHECK_TRACER_LEAKS or using the `jax.checking_leaks` context manager.\nSee https://jax.readthedocs.io/en/latest/errors.html#jax.errors.UnexpectedTracerError",
     "output_type": "error",
     "traceback": [
      "\u001b[0;31m---------------------------------------------------------------------------\u001b[0m",
      "\u001b[0;31mUnexpectedTracerError\u001b[0m                     Traceback (most recent call last)",
      "Cell \u001b[0;32mIn[38], line 5\u001b[0m\n\u001b[1;32m      3\u001b[0m tx \u001b[38;5;241m=\u001b[39m optax\u001b[38;5;241m.\u001b[39madamw(learning_rate\u001b[38;5;241m=\u001b[39m\u001b[38;5;241m1e-4\u001b[39m)\n\u001b[1;32m      4\u001b[0m n_iter \u001b[38;5;241m=\u001b[39m \u001b[38;5;241m50000\u001b[39m\n\u001b[0;32m----> 5\u001b[0m params_spinn, train_loss_values, _, _, _, _, _, validation_loss_values \u001b[38;5;241m=\u001b[39m \u001b[43mjinns\u001b[49m\u001b[38;5;241;43m.\u001b[39;49m\u001b[43msolve\u001b[49m\u001b[43m(\u001b[49m\n\u001b[1;32m      6\u001b[0m \u001b[43m    \u001b[49m\u001b[43minit_params\u001b[49m\u001b[38;5;241;43m=\u001b[39;49m\u001b[43mparams_spinn\u001b[49m\u001b[43m,\u001b[49m\n\u001b[1;32m      7\u001b[0m \u001b[43m    \u001b[49m\u001b[43mdata\u001b[49m\u001b[38;5;241;43m=\u001b[39;49m\u001b[43mtrain_data\u001b[49m\u001b[43m,\u001b[49m\n\u001b[1;32m      8\u001b[0m \u001b[43m    \u001b[49m\u001b[43moptimizer\u001b[49m\u001b[38;5;241;43m=\u001b[39;49m\u001b[43mtx\u001b[49m\u001b[43m,\u001b[49m\n\u001b[1;32m      9\u001b[0m \u001b[43m    \u001b[49m\u001b[43mloss\u001b[49m\u001b[38;5;241;43m=\u001b[39;49m\u001b[43mloss_spinn\u001b[49m\u001b[43m,\u001b[49m\n\u001b[1;32m     10\u001b[0m \u001b[43m    \u001b[49m\u001b[43mn_iter\u001b[49m\u001b[38;5;241;43m=\u001b[39;49m\u001b[43mn_iter\u001b[49m\u001b[43m,\u001b[49m\n\u001b[1;32m     11\u001b[0m \u001b[43m    \u001b[49m\u001b[43mvalidation\u001b[49m\u001b[38;5;241;43m=\u001b[39;49m\u001b[43mvalidation\u001b[49m\n\u001b[1;32m     12\u001b[0m \u001b[43m)\u001b[49m\n",
      "File \u001b[0;32m~/Recherche/INRAE/PINN/jinns/jinns/solver/_solve.py:361\u001b[0m, in \u001b[0;36msolve\u001b[0;34m(n_iter, init_params, data, loss, optimizer, print_loss_every, opt_state, seq2seq, tracked_params_key_list, param_data, obs_data, validation, obs_batch_sharding)\u001b[0m\n\u001b[1;32m    359\u001b[0m         carry \u001b[38;5;241m=\u001b[39m one_iteration(carry)\n\u001b[1;32m    360\u001b[0m \u001b[38;5;28;01melse\u001b[39;00m:\n\u001b[0;32m--> 361\u001b[0m     carry \u001b[38;5;241m=\u001b[39m \u001b[43mjax\u001b[49m\u001b[38;5;241;43m.\u001b[39;49m\u001b[43mlax\u001b[49m\u001b[38;5;241;43m.\u001b[39;49m\u001b[43mwhile_loop\u001b[49m\u001b[43m(\u001b[49m\u001b[43mbreak_fun\u001b[49m\u001b[43m,\u001b[49m\u001b[43m \u001b[49m\u001b[43mone_iteration\u001b[49m\u001b[43m,\u001b[49m\u001b[43m \u001b[49m\u001b[43mcarry\u001b[49m\u001b[43m)\u001b[49m\n\u001b[1;32m    363\u001b[0m (\n\u001b[1;32m    364\u001b[0m     i,\n\u001b[1;32m    365\u001b[0m     loss,\n\u001b[0;32m   (...)\u001b[0m\n\u001b[1;32m    372\u001b[0m     validation_crit_values,\n\u001b[1;32m    373\u001b[0m ) \u001b[38;5;241m=\u001b[39m carry\n\u001b[1;32m    375\u001b[0m jax\u001b[38;5;241m.\u001b[39mdebug\u001b[38;5;241m.\u001b[39mprint(\n\u001b[1;32m    376\u001b[0m     \u001b[38;5;124m\"\u001b[39m\u001b[38;5;124mFinal iteration \u001b[39m\u001b[38;5;132;01m{i}\u001b[39;00m\u001b[38;5;124m: train loss value = \u001b[39m\u001b[38;5;132;01m{train_loss_val}\u001b[39;00m\u001b[38;5;124m\"\u001b[39m,\n\u001b[1;32m    377\u001b[0m     i\u001b[38;5;241m=\u001b[39mi,\n\u001b[1;32m    378\u001b[0m     train_loss_val\u001b[38;5;241m=\u001b[39mloss_container\u001b[38;5;241m.\u001b[39mtrain_loss_values[i \u001b[38;5;241m-\u001b[39m \u001b[38;5;241m1\u001b[39m],\n\u001b[1;32m    379\u001b[0m )\n",
      "    \u001b[0;31m[... skipping hidden 9 frame]\u001b[0m\n",
      "File \u001b[0;32m~/Recherche/INRAE/PINN/jinns/jinns/solver/_solve.py:295\u001b[0m, in \u001b[0;36msolve.<locals>.one_iteration\u001b[0;34m(carry)\u001b[0m\n\u001b[1;32m    286\u001b[0m print_fn(i, train_loss_value, print_loss_every, prefix\u001b[38;5;241m=\u001b[39m\u001b[38;5;124m\"\u001b[39m\u001b[38;5;124m[train] \u001b[39m\u001b[38;5;124m\"\u001b[39m)\n\u001b[1;32m    288\u001b[0m \u001b[38;5;28;01mif\u001b[39;00m validation \u001b[38;5;129;01mis\u001b[39;00m \u001b[38;5;129;01mnot\u001b[39;00m \u001b[38;5;28;01mNone\u001b[39;00m:\n\u001b[1;32m    289\u001b[0m     \u001b[38;5;66;03m# there is a jax.lax.cond because we do not necesarily call the\u001b[39;00m\n\u001b[1;32m    290\u001b[0m     \u001b[38;5;66;03m# validation step every iteration\u001b[39;00m\n\u001b[1;32m    291\u001b[0m     (\n\u001b[1;32m    292\u001b[0m         validation,  \u001b[38;5;66;03m# always return `validation` for in-place mutation\u001b[39;00m\n\u001b[1;32m    293\u001b[0m         early_stopping,\n\u001b[1;32m    294\u001b[0m         validation_criterion,\n\u001b[0;32m--> 295\u001b[0m     ) \u001b[38;5;241m=\u001b[39m \u001b[43mjax\u001b[49m\u001b[38;5;241;43m.\u001b[39;49m\u001b[43mlax\u001b[49m\u001b[38;5;241;43m.\u001b[39;49m\u001b[43mcond\u001b[49m\u001b[43m(\u001b[49m\n\u001b[1;32m    296\u001b[0m \u001b[43m        \u001b[49m\u001b[43mi\u001b[49m\u001b[43m \u001b[49m\u001b[38;5;241;43m%\u001b[39;49m\u001b[43m \u001b[49m\u001b[43mvalidation\u001b[49m\u001b[38;5;241;43m.\u001b[39;49m\u001b[43mcall_every\u001b[49m\u001b[43m \u001b[49m\u001b[38;5;241;43m==\u001b[39;49m\u001b[43m \u001b[49m\u001b[38;5;241;43m0\u001b[39;49m\u001b[43m,\u001b[49m\n\u001b[1;32m    297\u001b[0m \u001b[43m        \u001b[49m\u001b[38;5;28;43;01mlambda\u001b[39;49;00m\u001b[43m \u001b[49m\u001b[43moperands\u001b[49m\u001b[43m:\u001b[49m\u001b[43m \u001b[49m\u001b[43mvalidation\u001b[49m\u001b[43m(\u001b[49m\u001b[38;5;241;43m*\u001b[39;49m\u001b[43moperands\u001b[49m\u001b[43m)\u001b[49m\u001b[43m,\u001b[49m\u001b[43m  \u001b[49m\u001b[38;5;66;43;03m# validation.__call__()\u001b[39;49;00m\n\u001b[1;32m    298\u001b[0m \u001b[43m        \u001b[49m\u001b[38;5;28;43;01mlambda\u001b[39;49;00m\u001b[43m \u001b[49m\u001b[43m_\u001b[49m\u001b[43m:\u001b[49m\u001b[43m \u001b[49m\u001b[43m(\u001b[49m\n\u001b[1;32m    299\u001b[0m \u001b[43m            \u001b[49m\u001b[43mvalidation\u001b[49m\u001b[43m,\u001b[49m\n\u001b[1;32m    300\u001b[0m \u001b[43m            \u001b[49m\u001b[38;5;28;43;01mFalse\u001b[39;49;00m\u001b[43m,\u001b[49m\n\u001b[1;32m    301\u001b[0m \u001b[43m            \u001b[49m\u001b[43mvalidation_crit_values\u001b[49m\u001b[43m[\u001b[49m\u001b[43mi\u001b[49m\u001b[43m \u001b[49m\u001b[38;5;241;43m-\u001b[39;49m\u001b[43m \u001b[49m\u001b[38;5;241;43m1\u001b[39;49m\u001b[43m]\u001b[49m\u001b[43m,\u001b[49m\n\u001b[1;32m    302\u001b[0m \u001b[43m        \u001b[49m\u001b[43m)\u001b[49m\u001b[43m,\u001b[49m\n\u001b[1;32m    303\u001b[0m \u001b[43m        \u001b[49m\u001b[43m(\u001b[49m\u001b[43mparams\u001b[49m\u001b[43m,\u001b[49m\u001b[43m)\u001b[49m\u001b[43m,\u001b[49m\n\u001b[1;32m    304\u001b[0m \u001b[43m    \u001b[49m\u001b[43m)\u001b[49m\n\u001b[1;32m    305\u001b[0m     \u001b[38;5;66;03m# Print validation loss value during optimization\u001b[39;00m\n\u001b[1;32m    306\u001b[0m     print_fn(i, validation_criterion, print_loss_every, prefix\u001b[38;5;241m=\u001b[39m\u001b[38;5;124m\"\u001b[39m\u001b[38;5;124m[validation] \u001b[39m\u001b[38;5;124m\"\u001b[39m)\n",
      "    \u001b[0;31m[... skipping hidden 13 frame]\u001b[0m\n",
      "File \u001b[0;32m~/anaconda3/envs/pinn-gpu/lib/python3.12/site-packages/jax/_src/interpreters/partial_eval.py:1698\u001b[0m, in \u001b[0;36mDynamicJaxprTracer._assert_live\u001b[0;34m(self)\u001b[0m\n\u001b[1;32m   1696\u001b[0m \u001b[38;5;28;01mdef\u001b[39;00m \u001b[38;5;21m_assert_live\u001b[39m(\u001b[38;5;28mself\u001b[39m) \u001b[38;5;241m-\u001b[39m\u001b[38;5;241m>\u001b[39m \u001b[38;5;28;01mNone\u001b[39;00m:\n\u001b[1;32m   1697\u001b[0m   \u001b[38;5;28;01mif\u001b[39;00m \u001b[38;5;129;01mnot\u001b[39;00m \u001b[38;5;28mself\u001b[39m\u001b[38;5;241m.\u001b[39m_trace\u001b[38;5;241m.\u001b[39mmain\u001b[38;5;241m.\u001b[39mjaxpr_stack:  \u001b[38;5;66;03m# type: ignore\u001b[39;00m\n\u001b[0;32m-> 1698\u001b[0m     \u001b[38;5;28;01mraise\u001b[39;00m core\u001b[38;5;241m.\u001b[39mescaped_tracer_error(\u001b[38;5;28mself\u001b[39m, \u001b[38;5;28;01mNone\u001b[39;00m)\n",
      "\u001b[0;31mUnexpectedTracerError\u001b[0m: Encountered an unexpected tracer. A function transformed by JAX had a side effect, allowing for a reference to an intermediate value with type uint32[2] wrapped in a DynamicJaxprTracer to escape the scope of the transformation.\nJAX transformations require that functions explicitly return their outputs, and disallow saving intermediate values to global state.\nThe function being traced when the value leaked was <lambda> at /home/nicolas/Recherche/INRAE/PINN/jinns/jinns/solver/_solve.py:297 traced for cond.\n------------------------------\nThe leaked intermediate value was created on line /home/nicolas/Recherche/INRAE/PINN/jinns/jinns/data/_DataGenerators.py:96:11 (_reset_or_increment). \n------------------------------\nWhen the value was created, the final 5 stack frames (most recent last) excluding JAX-internal frames were:\n------------------------------\n/home/nicolas/Recherche/INRAE/PINN/jinns/jinns/solver/_solve.py:297:33 (solve.<locals>.one_iteration.<locals>.<lambda>)\n/home/nicolas/Recherche/INRAE/PINN/jinns/jinns/validation/_validation.py:83:20 (VanillaValidation.__call__)\n/home/nicolas/Recherche/INRAE/PINN/jinns/jinns/data/_DataGenerators.py:1009:27 (CubicMeshPDENonStatio.get_batch)\n/home/nicolas/Recherche/INRAE/PINN/jinns/jinns/data/_DataGenerators.py:988:54 (CubicMeshPDENonStatio.temporal_batch)\n/home/nicolas/Recherche/INRAE/PINN/jinns/jinns/data/_DataGenerators.py:96:11 (_reset_or_increment)\n------------------------------\n\nTo catch the leak earlier, try setting the environment variable JAX_CHECK_TRACER_LEAKS or using the `jax.checking_leaks` context manager.\nSee https://jax.readthedocs.io/en/latest/errors.html#jax.errors.UnexpectedTracerError"
     ]
    }
   ],
   "source": [
    "params_spinn = init_params_spinn\n",
    "import optax\n",
    "tx = optax.adamw(learning_rate=1e-4)\n",
    "n_iter = 50000\n",
    "params_spinn, train_loss_values, _, _, _, _, _, validation_loss_values = jinns.solve(\n",
    "    init_params=params_spinn,\n",
    "    data=train_data,\n",
    "    optimizer=tx,\n",
    "    loss=loss_spinn,\n",
    "    n_iter=n_iter,\n",
    "    validation=validation\n",
    ")"
   ]
  },
  {
   "cell_type": "code",
   "execution_count": null,
   "id": "9ba133c6-2202-4ca7-9b6e-33b3a9defc2c",
   "metadata": {},
   "outputs": [],
   "source": [
    "plt.plot(jnp.log10(train_loss_values), label=\"train loss\")\n",
    "plt.plot(jnp.log10(validation_loss_values), label=\"validation loss\")\n",
    "plt.legend()\n",
    "plt.show()"
   ]
  },
  {
   "cell_type": "code",
   "execution_count": null,
   "id": "98c75e1b-bfaf-47e8-b6a3-6f5ff9e19f49",
   "metadata": {},
   "outputs": [],
   "source": [
    "nx = 500\n",
    "val_xdata = jnp.linspace(xmin, xmax, nx)\n",
    "ntime = 500\n",
    "val_times = jnp.linspace(tmin, tmax, ntime)"
   ]
  },
  {
   "cell_type": "code",
   "execution_count": null,
   "id": "6d473743-c9a8-4406-b18c-256496cfde59",
   "metadata": {},
   "outputs": [],
   "source": [
    "u_est_spinn = lambda t, x: u_spinn(t, x, params_spinn[\"nn_params\"])\n",
    "# same subkey\n",
    "jinns.data.plot1d_image(u_est_spinn, xdata=val_xdata, times=val_times, Tmax=Tmax, cmap=\"viridis\", colorbar=True, figsize=(5, 5), title=\"temporal\", spinn=True)"
   ]
  },
  {
   "cell_type": "code",
   "execution_count": null,
   "id": "b0fe65e0-4371-4cc0-82ad-9c8da2092dc0",
   "metadata": {},
   "outputs": [],
   "source": [
    "time_slices = [0, 0.02, 0.2, 0.4, 1]\n",
    "jinns.data.plot1d_slice(u_est_spinn, xdata=val_xdata, time_slices=time_slices, Tmax=Tmax, figsize=(5, 5), spinn=True)"
   ]
  },
  {
   "cell_type": "code",
   "execution_count": null,
   "id": "9fed32cf-046e-4002-87ff-895370a4b1a4",
   "metadata": {},
   "outputs": [],
   "source": []
  }
 ],
 "metadata": {
  "kernelspec": {
   "display_name": "Python 3 (ipykernel)",
   "language": "python",
   "name": "python3"
  },
  "language_info": {
   "codemirror_mode": {
    "name": "ipython",
    "version": 3
   },
   "file_extension": ".py",
   "mimetype": "text/x-python",
   "name": "python",
   "nbconvert_exporter": "python",
   "pygments_lexer": "ipython3",
   "version": "3.12.1"
  },
  "vscode": {
   "interpreter": {
    "hash": "991718e94fb5d91fa62c7598521d2199c208ff1ff700f1ac060f334be0bee194"
   }
  }
 },
 "nbformat": 4,
 "nbformat_minor": 5
}
